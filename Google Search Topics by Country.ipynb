{
  "nbformat": 4,
  "nbformat_minor": 0,
  "metadata": {
    "colab": {
      "name": "Google Search Topics by Country",
      "provenance": [],
      "include_colab_link": true
    },
    "kernelspec": {
      "name": "python3",
      "display_name": "Python 3"
    }
  },
  "cells": [
    {
      "cell_type": "markdown",
      "metadata": {
        "id": "view-in-github",
        "colab_type": "text"
      },
      "source": [
        "<a href=\"https://colab.research.google.com/github/laresbernardo/notebooks/blob/master/Google%20Search%20Topics%20by%20Country.ipynb\" target=\"_parent\"><img src=\"https://colab.research.google.com/assets/colab-badge.svg\" alt=\"Open In Colab\"/></a>"
      ]
    },
    {
      "cell_type": "code",
      "metadata": {
        "id": "484I7nT_sR2R",
        "colab_type": "code",
        "colab": {}
      },
      "source": [
        "#!pip install pytrends"
      ],
      "execution_count": 0,
      "outputs": []
    },
    {
      "cell_type": "code",
      "metadata": {
        "id": "RaaJSCLSmYKk",
        "colab_type": "code",
        "colab": {}
      },
      "source": [
        "import pandas as pd   \n",
        "import numpy as np    \n",
        "from datetime import date\n",
        "from google.colab import files\n",
        "from pytrends.request import TrendReq\n",
        "pytrend = TrendReq()\n",
        "today = date.today()"
      ],
      "execution_count": 0,
      "outputs": []
    },
    {
      "cell_type": "code",
      "metadata": {
        "id": "AI9ntrz5mcFF",
        "colab_type": "code",
        "outputId": "4da27fe4-6de4-43be-ea21-d7af4c4063df",
        "colab": {
          "base_uri": "https://localhost:8080/",
          "height": 102
        }
      },
      "source": [
        "# Get Google Hot Trends data\n",
        "countries = ['AR', 'CO', 'MX', 'BR', 'CL']\n",
        "total = pd.DataFrame()\n",
        "for x in countries:\n",
        "  print(x)\n",
        "  d = pytrend.today_searches(pn=x)\n",
        "  df = pd.DataFrame(data=d)\n",
        "  df['country'] = x\n",
        "  df['date'] = today\n",
        "  total = total.append(df)"
      ],
      "execution_count": 0,
      "outputs": [
        {
          "output_type": "stream",
          "text": [
            "AR\n",
            "CO\n",
            "MX\n",
            "BR\n",
            "CL\n"
          ],
          "name": "stdout"
        }
      ]
    },
    {
      "cell_type": "code",
      "metadata": {
        "id": "r67r1uFCmems",
        "colab_type": "code",
        "colab": {}
      },
      "source": [
        "file = \"google_trends_\" + str(today) + \".xlsx\"\n",
        "total.to_excel(file)  \n",
        "files.download(file)"
      ],
      "execution_count": 0,
      "outputs": []
    },
    {
      "cell_type": "code",
      "metadata": {
        "id": "R2X7csZgsaQk",
        "colab_type": "code",
        "colab": {}
      },
      "source": [
        ""
      ],
      "execution_count": 0,
      "outputs": []
    }
  ]
}