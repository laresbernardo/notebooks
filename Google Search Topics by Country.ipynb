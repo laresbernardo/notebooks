{
  "nbformat": 4,
  "nbformat_minor": 0,
  "metadata": {
    "colab": {
      "name": "Google Search Topics by Country",
      "provenance": [],
      "include_colab_link": true
    },
    "kernelspec": {
      "name": "python3",
      "display_name": "Python 3"
    }
  },
  "cells": [
    {
      "cell_type": "markdown",
      "metadata": {
        "id": "view-in-github",
        "colab_type": "text"
      },
      "source": [
        "<a href=\"https://colab.research.google.com/github/laresbernardo/notebooks/blob/master/Google%20Search%20Topics%20by%20Country.ipynb\" target=\"_parent\"><img src=\"https://colab.research.google.com/assets/colab-badge.svg\" alt=\"Open In Colab\"/></a>"
      ]
    },
    {
      "cell_type": "code",
      "metadata": {
        "id": "484I7nT_sR2R",
        "colab_type": "code",
        "outputId": "882a18db-9565-40e3-a309-fb7501797eff",
        "colab": {
          "base_uri": "https://localhost:8080/",
          "height": 377
        }
      },
      "source": [
        "!pip install pytrends"
      ],
      "execution_count": 2,
      "outputs": [
        {
          "output_type": "stream",
          "text": [
            "Collecting pytrends\n",
            "  Downloading https://files.pythonhosted.org/packages/74/a4/c1b1242be7d31650c6d9128a776c753db18f0e83290aaea0dd80dd31374b/pytrends-4.7.2.tar.gz\n",
            "Requirement already satisfied: requests in /usr/local/lib/python3.6/dist-packages (from pytrends) (2.21.0)\n",
            "Requirement already satisfied: pandas in /usr/local/lib/python3.6/dist-packages (from pytrends) (1.0.3)\n",
            "Requirement already satisfied: lxml in /usr/local/lib/python3.6/dist-packages (from pytrends) (4.2.6)\n",
            "Requirement already satisfied: chardet<3.1.0,>=3.0.2 in /usr/local/lib/python3.6/dist-packages (from requests->pytrends) (3.0.4)\n",
            "Requirement already satisfied: urllib3<1.25,>=1.21.1 in /usr/local/lib/python3.6/dist-packages (from requests->pytrends) (1.24.3)\n",
            "Requirement already satisfied: idna<2.9,>=2.5 in /usr/local/lib/python3.6/dist-packages (from requests->pytrends) (2.8)\n",
            "Requirement already satisfied: certifi>=2017.4.17 in /usr/local/lib/python3.6/dist-packages (from requests->pytrends) (2020.4.5.1)\n",
            "Requirement already satisfied: python-dateutil>=2.6.1 in /usr/local/lib/python3.6/dist-packages (from pandas->pytrends) (2.8.1)\n",
            "Requirement already satisfied: numpy>=1.13.3 in /usr/local/lib/python3.6/dist-packages (from pandas->pytrends) (1.18.2)\n",
            "Requirement already satisfied: pytz>=2017.2 in /usr/local/lib/python3.6/dist-packages (from pandas->pytrends) (2018.9)\n",
            "Requirement already satisfied: six>=1.5 in /usr/local/lib/python3.6/dist-packages (from python-dateutil>=2.6.1->pandas->pytrends) (1.12.0)\n",
            "Building wheels for collected packages: pytrends\n",
            "  Building wheel for pytrends (setup.py) ... \u001b[?25l\u001b[?25hdone\n",
            "  Created wheel for pytrends: filename=pytrends-4.7.2-cp36-none-any.whl size=14261 sha256=667f558893197d3089531172aee21602f978c9840aed50e324e525b79412baec\n",
            "  Stored in directory: /root/.cache/pip/wheels/64/ae/af/51d48fbbca0563036c6f80999b7ce3f097fa591fd165047baf\n",
            "Successfully built pytrends\n",
            "Installing collected packages: pytrends\n",
            "Successfully installed pytrends-4.7.2\n"
          ],
          "name": "stdout"
        }
      ]
    },
    {
      "cell_type": "code",
      "metadata": {
        "id": "RaaJSCLSmYKk",
        "colab_type": "code",
        "colab": {}
      },
      "source": [
        "import pandas as pd   \n",
        "import numpy as np    \n",
        "from datetime import date\n",
        "from google.colab import files\n",
        "from pytrends.request import TrendReq\n",
        "pytrend = TrendReq()\n",
        "today = date.today()"
      ],
      "execution_count": 0,
      "outputs": []
    },
    {
      "cell_type": "code",
      "metadata": {
        "id": "AI9ntrz5mcFF",
        "colab_type": "code",
        "outputId": "7bc2a5e8-b29f-4615-f0b4-a44f6f42d375",
        "colab": {
          "base_uri": "https://localhost:8080/",
          "height": 221
        }
      },
      "source": [
        "# Get Google Hot Trends data\n",
        "countries = ['AR', 'CO', 'MX', 'BR', 'CL','GB','IT','FR','US','DE','JP','KR']\n",
        "total = pd.DataFrame()\n",
        "for x in countries:\n",
        "  print(x)\n",
        "  d = pytrend.today_searches(pn=x)\n",
        "  df = pd.DataFrame(data=d)\n",
        "  df['country'] = x\n",
        "  df['date'] = today\n",
        "  df['rank'] = np.arange(len(df))+1\n",
        "  df['rank_inv'] = 25 - np.arange(len(df))\n",
        "  total = total.append(df)"
      ],
      "execution_count": 12,
      "outputs": [
        {
          "output_type": "stream",
          "text": [
            "AR\n",
            "CO\n",
            "MX\n",
            "BR\n",
            "CL\n",
            "GB\n",
            "IT\n",
            "FR\n",
            "US\n",
            "DE\n",
            "JP\n",
            "KR\n"
          ],
          "name": "stdout"
        }
      ]
    },
    {
      "cell_type": "code",
      "metadata": {
        "id": "r67r1uFCmems",
        "colab_type": "code",
        "colab": {
          "base_uri": "https://localhost:8080/",
          "height": 419
        },
        "outputId": "3c64f956-855a-47d3-9942-7bbc2ee179bf"
      },
      "source": [
        "total"
      ],
      "execution_count": 13,
      "outputs": [
        {
          "output_type": "execute_result",
          "data": {
            "text/html": [
              "<div>\n",
              "<style scoped>\n",
              "    .dataframe tbody tr th:only-of-type {\n",
              "        vertical-align: middle;\n",
              "    }\n",
              "\n",
              "    .dataframe tbody tr th {\n",
              "        vertical-align: top;\n",
              "    }\n",
              "\n",
              "    .dataframe thead th {\n",
              "        text-align: right;\n",
              "    }\n",
              "</style>\n",
              "<table border=\"1\" class=\"dataframe\">\n",
              "  <thead>\n",
              "    <tr style=\"text-align: right;\">\n",
              "      <th></th>\n",
              "      <th>query</th>\n",
              "      <th>country</th>\n",
              "      <th>date</th>\n",
              "      <th>rank</th>\n",
              "      <th>rank_inv</th>\n",
              "    </tr>\n",
              "  </thead>\n",
              "  <tbody>\n",
              "    <tr>\n",
              "      <th>0</th>\n",
              "      <td>Camila Tarocco</td>\n",
              "      <td>AR</td>\n",
              "      <td>2020-04-15</td>\n",
              "      <td>1</td>\n",
              "      <td>25</td>\n",
              "    </tr>\n",
              "    <tr>\n",
              "      <th>1</th>\n",
              "      <td>Chris Evans</td>\n",
              "      <td>AR</td>\n",
              "      <td>2020-04-15</td>\n",
              "      <td>2</td>\n",
              "      <td>24</td>\n",
              "    </tr>\n",
              "    <tr>\n",
              "      <th>2</th>\n",
              "      <td>Emma Watson</td>\n",
              "      <td>AR</td>\n",
              "      <td>2020-04-15</td>\n",
              "      <td>3</td>\n",
              "      <td>23</td>\n",
              "    </tr>\n",
              "    <tr>\n",
              "      <th>3</th>\n",
              "      <td>Roberto garcia moritan</td>\n",
              "      <td>AR</td>\n",
              "      <td>2020-04-15</td>\n",
              "      <td>4</td>\n",
              "      <td>22</td>\n",
              "    </tr>\n",
              "    <tr>\n",
              "      <th>4</th>\n",
              "      <td>PAMI vacunacion</td>\n",
              "      <td>AR</td>\n",
              "      <td>2020-04-15</td>\n",
              "      <td>5</td>\n",
              "      <td>21</td>\n",
              "    </tr>\n",
              "    <tr>\n",
              "      <th>...</th>\n",
              "      <td>...</td>\n",
              "      <td>...</td>\n",
              "      <td>...</td>\n",
              "      <td>...</td>\n",
              "      <td>...</td>\n",
              "    </tr>\n",
              "    <tr>\n",
              "      <th>10</th>\n",
              "      <td>2020 국회의원 선거</td>\n",
              "      <td>KR</td>\n",
              "      <td>2020-04-15</td>\n",
              "      <td>11</td>\n",
              "      <td>15</td>\n",
              "    </tr>\n",
              "    <tr>\n",
              "      <th>11</th>\n",
              "      <td>유승민</td>\n",
              "      <td>KR</td>\n",
              "      <td>2020-04-15</td>\n",
              "      <td>12</td>\n",
              "      <td>14</td>\n",
              "    </tr>\n",
              "    <tr>\n",
              "      <th>12</th>\n",
              "      <td>박지원</td>\n",
              "      <td>KR</td>\n",
              "      <td>2020-04-15</td>\n",
              "      <td>13</td>\n",
              "      <td>13</td>\n",
              "    </tr>\n",
              "    <tr>\n",
              "      <th>13</th>\n",
              "      <td>KBS 개표방송</td>\n",
              "      <td>KR</td>\n",
              "      <td>2020-04-15</td>\n",
              "      <td>14</td>\n",
              "      <td>12</td>\n",
              "    </tr>\n",
              "    <tr>\n",
              "      <th>14</th>\n",
              "      <td>황운하</td>\n",
              "      <td>KR</td>\n",
              "      <td>2020-04-15</td>\n",
              "      <td>15</td>\n",
              "      <td>11</td>\n",
              "    </tr>\n",
              "  </tbody>\n",
              "</table>\n",
              "<p>157 rows × 5 columns</p>\n",
              "</div>"
            ],
            "text/plain": [
              "                     query country        date  rank  rank_inv\n",
              "0           Camila Tarocco      AR  2020-04-15     1        25\n",
              "1              Chris Evans      AR  2020-04-15     2        24\n",
              "2              Emma Watson      AR  2020-04-15     3        23\n",
              "3   Roberto garcia moritan      AR  2020-04-15     4        22\n",
              "4          PAMI vacunacion      AR  2020-04-15     5        21\n",
              "..                     ...     ...         ...   ...       ...\n",
              "10            2020 국회의원 선거      KR  2020-04-15    11        15\n",
              "11                     유승민      KR  2020-04-15    12        14\n",
              "12                     박지원      KR  2020-04-15    13        13\n",
              "13                KBS 개표방송      KR  2020-04-15    14        12\n",
              "14                     황운하      KR  2020-04-15    15        11\n",
              "\n",
              "[157 rows x 5 columns]"
            ]
          },
          "metadata": {
            "tags": []
          },
          "execution_count": 13
        }
      ]
    },
    {
      "cell_type": "code",
      "metadata": {
        "id": "R2X7csZgsaQk",
        "colab_type": "code",
        "colab": {}
      },
      "source": [
        "file = \"google_trends_\" + str(today) + \".xlsx\"\n",
        "total.to_excel(file, index=False) \n",
        "files.download(file)"
      ],
      "execution_count": 0,
      "outputs": []
    },
    {
      "cell_type": "code",
      "metadata": {
        "id": "QJ9QIRyVb9a8",
        "colab_type": "code",
        "colab": {}
      },
      "source": [
        ""
      ],
      "execution_count": 0,
      "outputs": []
    }
  ]
}