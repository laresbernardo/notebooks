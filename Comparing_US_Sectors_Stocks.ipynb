{
  "nbformat": 4,
  "nbformat_minor": 0,
  "metadata": {
    "colab": {
      "name": "Comparing US Sectors Stocks",
      "provenance": [],
      "authorship_tag": "ABX9TyO3egS9NXQabkNXDuBBa2DW",
      "include_colab_link": true
    },
    "kernelspec": {
      "name": "python3",
      "display_name": "Python 3"
    }
  },
  "cells": [
    {
      "cell_type": "markdown",
      "metadata": {
        "id": "view-in-github",
        "colab_type": "text"
      },
      "source": [
        "<a href=\"https://colab.research.google.com/github/laresbernardo/notebooks/blob/master/Comparing_US_Sectors_Stocks.ipynb\" target=\"_parent\"><img src=\"https://colab.research.google.com/assets/colab-badge.svg\" alt=\"Open In Colab\"/></a>"
      ]
    },
    {
      "cell_type": "code",
      "metadata": {
        "id": "6Lh-fHNWORBP",
        "colab_type": "code",
        "colab": {}
      },
      "source": [
        "#devtools::install_github(\"laresbernardo/lares\")\n",
        "library(lares)\n",
        "library(dplyr)\n",
        "library(ggplot2)"
      ],
      "execution_count": null,
      "outputs": []
    },
    {
      "cell_type": "code",
      "metadata": {
        "id": "w0gK8zCeOcjw",
        "colab_type": "code",
        "colab": {}
      },
      "source": [
        "symbols <-c(\"SPY\", \"XLV\", \"XLK\", \"XLE\", \"XLF\", \"XLC\", \"XLI\", \"XLY\", \"XLP\", \"XLRE\", \"XLU\", \"XLB\")\n",
        "from <- \"2020-02-19\""
      ],
      "execution_count": null,
      "outputs": []
    },
    {
      "cell_type": "code",
      "metadata": {
        "id": "37vFufJMOfig",
        "colab_type": "code",
        "colab": {}
      },
      "source": [
        "# Get the data\n",
        "eod_sectors <- stocks_hist(symbols, from = from) %>%\n",
        "  group_by(Symbol) %>%\n",
        "  arrange(desc(Date)) %>%\n",
        "  mutate(\n",
        "    norm_close = Value / last(Value),\n",
        "    type = if_else(Symbol == \"SPY\", \"Market\", \"Sector\"),\n",
        "    sector = case_when(\n",
        "      Symbol == \"SPY\"  ~ \"S&P 500\",\n",
        "      Symbol == \"XLB\"  ~ \"Materials\",\n",
        "      Symbol == \"XLE\"  ~ \"Energy\",\n",
        "      Symbol == \"XLU\"  ~ \"Utilities\",\n",
        "      Symbol == \"XLI\"  ~ \"Industrial\",\n",
        "      Symbol == \"XLRE\" ~ \"Real Estate\",\n",
        "      Symbol == \"XLV\"  ~ \"Health\",\n",
        "      Symbol == \"XLK\"  ~ \"Technology\",\n",
        "      Symbol == \"XLF\"  ~ \"Financial\",\n",
        "      Symbol == \"XLC\"  ~ \"Communication\",\n",
        "      Symbol == \"XLY\"  ~ \"Consumer Discretionary\",\n",
        "      Symbol == \"XLP\"  ~ \"Consumer Staples\",\n",
        "      TRUE ~ \"Other\")) %>% \n",
        "  ungroup()"
      ],
      "execution_count": null,
      "outputs": []
    },
    {
      "cell_type": "code",
      "metadata": {
        "id": "wFQVaoXsOhln",
        "colab_type": "code",
        "colab": {}
      },
      "source": [
        "cols <- names(lares::lares_pal()$palette)\n",
        "ord <- eod_sectors %>% filter(Date == max(Date)) %>% \n",
        "  arrange(desc(norm_close)) %>% \n",
        "  mutate(sector = autoline(sector, 1)) %>% .$sector\n",
        "eod_sectors %>%\n",
        "  mutate(\n",
        "    sector = autoline(sector, 1),\n",
        "    sector = factor(sector, levels = ord)) %>%\n",
        "  ggplot(aes(x = Date, y = norm_close, colour = type)) +\n",
        "  geom_rect(aes(xmin = min(Date), xmax = max(Date), ymin = -Inf, ymax = Inf), \n",
        "            fill = if_else(eod_sectors$type == \"Market\", cols[3], NULL), colour = \"white\") +\n",
        "  geom_hline(yintercept = 1, linetype = \"dashed\", colour = \"grey80\") +\n",
        "  geom_line(key_glyph = \"timeseries\") +\n",
        "  facet_wrap(.~sector) +\n",
        "  scale_colour_manual(values = cols[c(1, 4)]) +\n",
        "  scale_y_percent() +\n",
        "  labs(\n",
        "    title = \"S&P 500 Sector Impact of Covid-19\",\n",
        "    subtitle = glued(\"Relative to {from}\"),\n",
        "    x = NULL, y = NULL, colour = NULL) +\n",
        "  theme(axis.text.x = element_text(angle = 45, hjust = 1)) +\n",
        "  theme_lares(legend = \"top\")\n",
        "  "
      ],
      "execution_count": null,
      "outputs": []
    }
  ]
}
